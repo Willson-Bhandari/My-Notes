{
 "cells": [
  {
   "cell_type": "markdown",
   "id": "e46b645a-514d-494d-8f15-edca9740a35e",
   "metadata": {},
   "source": [
    "#### Intializing the class "
   ]
  },
  {
   "cell_type": "markdown",
   "id": "3daa6cd6-4a31-4055-962e-933c3e40c97e",
   "metadata": {},
   "source": [
    "It is the process of creating an instance of the class."
   ]
  }
 ],
 "metadata": {
  "kernelspec": {
   "display_name": "Python 3 (ipykernel)",
   "language": "python",
   "name": "python3"
  },
  "language_info": {
   "codemirror_mode": {
    "name": "ipython",
    "version": 3
   },
   "file_extension": ".py",
   "mimetype": "text/x-python",
   "name": "python",
   "nbconvert_exporter": "python",
   "pygments_lexer": "ipython3",
   "version": "3.10.12"
  }
 },
 "nbformat": 4,
 "nbformat_minor": 5
}
