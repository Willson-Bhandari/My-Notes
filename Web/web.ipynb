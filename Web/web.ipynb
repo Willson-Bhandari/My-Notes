{
 "cells": [
  {
   "cell_type": "markdown",
   "id": "66ca35dd-035d-4567-a9db-cff5edc5cc7f",
   "metadata": {},
   "source": [
    "## Stateless and Stateful Protocol\n"
   ]
  },
  {
   "cell_type": "markdown",
   "id": "fef7ffe2-6bc9-4050-bf48-53fb1ceb44b5",
   "metadata": {},
   "source": [
    "Network Protocols for web browser and servers are categorized into two types: Stateless Protocol, and Stateful protocol. "
   ]
  },
  {
   "cell_type": "markdown",
   "id": "e7ffbee7-f7ee-4b79-babe-9be51fc5b20d",
   "metadata": {},
   "source": [
    "1. Stateless Protocol:<br>\n",
    "Stateless Protocols are the type of network protocols in which Client send request to the server and server response back according to current state. It does not require the server to retain session information or a status about each communicating partner for multiple request.<br>\n",
    "<br>\n",
    "HTTP (Hypertext Transfer Protocol), UDP (User Datagram Protocol), DNS (Domain Name System) are the example of Stateless Protocol.\n",
    "2. Stateful Protocol:<br>\n",
    "In Stateful Protocol If client send a request to the server then it expects some kind of response, if it does not get any response then it resend the request. FTP (File Transfer Protocol), TCP, and Telnet are the example of Stateful Protocol. "
   ]
  },
  {
   "cell_type": "markdown",
   "id": "34c8cf50-c768-4ee6-a75f-8d31e194011a",
   "metadata": {},
   "source": []
  }
 ],
 "metadata": {
  "kernelspec": {
   "display_name": "Python 3 (ipykernel)",
   "language": "python",
   "name": "python3"
  },
  "language_info": {
   "codemirror_mode": {
    "name": "ipython",
    "version": 3
   },
   "file_extension": ".py",
   "mimetype": "text/x-python",
   "name": "python",
   "nbconvert_exporter": "python",
   "pygments_lexer": "ipython3",
   "version": "3.10.12"
  }
 },
 "nbformat": 4,
 "nbformat_minor": 5
}
