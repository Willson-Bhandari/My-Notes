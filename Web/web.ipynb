{
 "cells": [
  {
   "cell_type": "markdown",
   "id": "66ca35dd-035d-4567-a9db-cff5edc5cc7f",
   "metadata": {},
   "source": [
    "## Stateless and Stateful Protocol\n"
   ]
  },
  {
   "cell_type": "markdown",
   "id": "fef7ffe2-6bc9-4050-bf48-53fb1ceb44b5",
   "metadata": {},
   "source": [
    "Network Protocols for web browser and servers are categorized into two types: Stateless Protocol, and Stateful protocol. "
   ]
  },
  {
   "cell_type": "markdown",
   "id": "e7ffbee7-f7ee-4b79-babe-9be51fc5b20d",
   "metadata": {},
   "source": [
    "1. Stateless Protocol:<br>\n",
    "Stateless Protocols are the type of network protocols in which Client send request to the server and server response back according to current state. It does not require the server to retain session information or a status about each communicating partner for multiple request.<br>\n",
    "<br>\n",
    "HTTP (Hypertext Transfer Protocol), UDP (User Datagram Protocol), DNS (Domain Name System) are the example of Stateless Protocol.\n",
    "2. Stateful Protocol:<br>\n",
    "In Stateful Protocol If client send a request to the server then it expects some kind of response, if it does not get any response then it resend the request. FTP (File Transfer Protocol), TCP, and Telnet are the example of Stateful Protocol. "
   ]
  },
  {
   "cell_type": "markdown",
   "id": "34c8cf50-c768-4ee6-a75f-8d31e194011a",
   "metadata": {},
   "source": [
    "## ini-style - initialization file style \n"
   ]
  },
  {
   "cell_type": "markdown",
   "id": "ce20741c-deea-49ac-93d0-ee95a65d8703",
   "metadata": {},
   "source": [
    "INI-style files, short for Initialization files, are a simple and widely used file format for configuration and data storage. They are named after the filename extension \".ini\" commonly associated with these files. INI files are text-based and consist of sections, keys, and values.\n",
    "\n",
    "Here are the basic characteristics of INI-style files:\n",
    "\n",
    "1. **Sections:** INI files are divided into sections, each marked by a header enclosed in square brackets. Sections help organize settings into logical groups. For example:\n",
    "   ```\n",
    "   [Section1]\n",
    "   key1 = value1\n",
    "   key2 = value2\n",
    "\n",
    "   [Section2]\n",
    "   key3 = value3\n",
    "   ```\n",
    "\n",
    "2. **Keys and Values:** Within each section, there are key-value pairs where the key and value are separated by an equal sign (=). For example:\n",
    "   ```\n",
    "   [Database]\n",
    "   host = localhost\n",
    "   port = 3306\n",
    "   username = admin\n",
    "   password = secret\n",
    "   ```\n",
    "\n",
    "3. **Comments:** Comments in INI files are preceded by a semicolon (;) or a hash (#). Comments are ignored by applications reading the file.\n",
    "   ```\n",
    "   ; This is a comment\n",
    "   [Section]\n",
    "   key = value  # Another comment\n",
    "   ```\n",
    "\n",
    "4. **Whitespace:** Whitespace (spaces or tabs) is generally allowed and ignored, but it's common to follow a specific indentation or alignment convention for readability.\n",
    "\n",
    "INI files are easy to read and edit manually, making them a popular choice for configuration files in various software applications. They are supported by many programming languages and frameworks. However, they lack some features found in more modern configuration file formats, such as nested structures and data types. For more complex scenarios, alternative formats like JSON, YAML, or XML might be preferred."
   ]
  },
  {
   "cell_type": "code",
   "execution_count": null,
   "id": "16e07855-db6a-4187-830d-69da90c013cc",
   "metadata": {},
   "outputs": [],
   "source": []
  },
  {
   "cell_type": "code",
   "execution_count": null,
   "id": "845c3284-47fe-4c6d-ba81-b4ab538aa026",
   "metadata": {},
   "outputs": [],
   "source": []
  }
 ],
 "metadata": {
  "kernelspec": {
   "display_name": "Python 3 (ipykernel)",
   "language": "python",
   "name": "python3"
  },
  "language_info": {
   "codemirror_mode": {
    "name": "ipython",
    "version": 3
   },
   "file_extension": ".py",
   "mimetype": "text/x-python",
   "name": "python",
   "nbconvert_exporter": "python",
   "pygments_lexer": "ipython3",
   "version": "3.10.12"
  }
 },
 "nbformat": 4,
 "nbformat_minor": 5
}
